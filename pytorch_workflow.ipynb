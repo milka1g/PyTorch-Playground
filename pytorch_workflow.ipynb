{
  "nbformat": 4,
  "nbformat_minor": 0,
  "metadata": {
    "colab": {
      "provenance": []
    },
    "kernelspec": {
      "name": "python3",
      "display_name": "Python 3"
    },
    "language_info": {
      "name": "python"
    },
    "accelerator": "GPU",
    "gpuClass": "standard"
  },
  "cells": [
    {
      "cell_type": "markdown",
      "source": [
        "## Pytorch workflow"
      ],
      "metadata": {
        "id": "1_dsbOYlBe_Z"
      }
    },
    {
      "cell_type": "code",
      "source": [
        "import torch\n",
        "from torch import nn #nn has building blocks for neural networks: https://pytorch.org/docs/stable/nn.html\n",
        "import matplotlib.pyplot as plt\n",
        "\n",
        "torch.__version__"
      ],
      "metadata": {
        "colab": {
          "base_uri": "https://localhost:8080/",
          "height": 35
        },
        "id": "koWToXHrCTR6",
        "outputId": "dc8cf902-7f99-4d99-ffb8-6002cf4a90dd"
      },
      "execution_count": 1,
      "outputs": [
        {
          "output_type": "execute_result",
          "data": {
            "text/plain": [
              "'2.0.0+cu118'"
            ],
            "application/vnd.google.colaboratory.intrinsic+json": {
              "type": "string"
            }
          },
          "metadata": {},
          "execution_count": 1
        }
      ]
    },
    {
      "cell_type": "markdown",
      "source": [
        "## 1. Data (preparing and loading)\n",
        "\n",
        "Can be anything:\n",
        "* Excel spreadsheed\n",
        "* Images\n",
        "* Videos\n",
        "* Audio\n",
        "* DNA\n",
        "* Text\n",
        "\n",
        "ML is a game of two parts:\n",
        "1. Get data into numerical representation\n",
        "2. Build model to learn patterns in that representation\n",
        "\n",
        "We'll use lin reg formula to make a straight line with known parameters"
      ],
      "metadata": {
        "id": "BMJ-w-f9C8ru"
      }
    },
    {
      "cell_type": "code",
      "source": [
        "# y = a + bX\n",
        "weight = 0.7 # b\n",
        "bias = 0.3 # a\n",
        "\n",
        "start = 0\n",
        "end = 1\n",
        "step = 0.02\n",
        "X = torch.arange(start, end, step).unsqueeze(dim=1)\n",
        "y = weight * X + bias\n",
        "X[:10], y[:10]"
      ],
      "metadata": {
        "colab": {
          "base_uri": "https://localhost:8080/"
        },
        "id": "QT_NNb9ADPxc",
        "outputId": "60342467-fc1c-4204-ee06-9fb647feb200"
      },
      "execution_count": 2,
      "outputs": [
        {
          "output_type": "execute_result",
          "data": {
            "text/plain": [
              "(tensor([[0.0000],\n",
              "         [0.0200],\n",
              "         [0.0400],\n",
              "         [0.0600],\n",
              "         [0.0800],\n",
              "         [0.1000],\n",
              "         [0.1200],\n",
              "         [0.1400],\n",
              "         [0.1600],\n",
              "         [0.1800]]),\n",
              " tensor([[0.3000],\n",
              "         [0.3140],\n",
              "         [0.3280],\n",
              "         [0.3420],\n",
              "         [0.3560],\n",
              "         [0.3700],\n",
              "         [0.3840],\n",
              "         [0.3980],\n",
              "         [0.4120],\n",
              "         [0.4260]]))"
            ]
          },
          "metadata": {},
          "execution_count": 2
        }
      ]
    },
    {
      "cell_type": "code",
      "source": [
        "# Split to train - validation (sometimes not needed) - test set\n",
        "train_split = int(0.8 * len(X))\n",
        "X_train, y_train = X[:train_split], y[:train_split] # use sklearn split\n",
        "X_test, y_test = X[train_split:], y[train_split:]\n",
        "len(X_train), len(y_train)\n"
      ],
      "metadata": {
        "colab": {
          "base_uri": "https://localhost:8080/"
        },
        "id": "cvD-C4EAFBzO",
        "outputId": "9442b5d7-393b-4e02-b15e-a48e18f6c73e"
      },
      "execution_count": 3,
      "outputs": [
        {
          "output_type": "execute_result",
          "data": {
            "text/plain": [
              "(40, 40)"
            ]
          },
          "metadata": {},
          "execution_count": 3
        }
      ]
    },
    {
      "cell_type": "code",
      "source": [
        "def plot_predictions(train_data=X_train,\n",
        "                     train_labels=y_train,\n",
        "                     test_data=X_test,\n",
        "                     test_labels=y_test,\n",
        "                     predictions=None):\n",
        "  plt.figure(figsize=(10,7))\n",
        "  plt.scatter(train_data, train_labels, c=\"b\", s=4, label=\"Training data\") # plot training data in blue\n",
        "\n",
        "  plt.scatter(test_data, test_labels, c=\"g\", s=4, label=\"Test data\") # plot test data in green\n",
        "  \n",
        "  if predictions is not None:\n",
        "    plt.scatter(test_data, predictions, c=\"r\", s=4, label=\"Predictions\")\n",
        "  \n",
        "  #show legend\n",
        "  plt.legend(prop={\"size\": 14})\n",
        "\n",
        "\n"
      ],
      "metadata": {
        "id": "g881nLPnGHEB"
      },
      "execution_count": 4,
      "outputs": []
    },
    {
      "cell_type": "code",
      "source": [
        "plot_predictions()"
      ],
      "metadata": {
        "colab": {
          "base_uri": "https://localhost:8080/",
          "height": 599
        },
        "id": "waMzCLjZHFQI",
        "outputId": "1833840e-5b55-4d31-c821-82560a7f053e"
      },
      "execution_count": 5,
      "outputs": [
        {
          "output_type": "display_data",
          "data": {
            "text/plain": [
              "<Figure size 1000x700 with 1 Axes>"
            ],
            "image/png": "[encoded data removed]"
          },
          "metadata": {}
        }
      ]
    },
    {
      "cell_type": "markdown",
      "source": [
        "## 2. Build model\n",
        "\n",
        "What model does:\n",
        "* Start with random values (weight, bias)\n",
        "* Look at training data and adjust those rand values to better represent ideal values that we used to create the data\n",
        "\n",
        "How?\n",
        "* Gradient descent\n",
        "* Backpropagation\n",
        "\n",
        "https://www.youtube.com/playlist?list=PLZHQObOWTQDNU6R1_67000Dx_ZCJB-3pi\n"
      ],
      "metadata": {
        "id": "0E7fwpcRHUwV"
      }
    },
    {
      "cell_type": "code",
      "source": [
        "# Create lin reg model class\n",
        "class LinearRegressionModel(nn.Module): # <- almost everything in pytorch inherits from this: https://pytorch.org/docs/stable/generated/torch.nn.Module.html\n",
        "  def __init__(self):\n",
        "    super().__init__()\n",
        "    # init model params - can be layers, single parameters like here, hard-coded values or functions\n",
        "    self.weight = nn.Parameter(torch.randn(1,\n",
        "                                            requires_grad=True,\n",
        "                                            dtype=torch.float))\n",
        "    self.bias = nn.Parameter(torch.randn(1,\n",
        "                                         requires_grad=True, #grad descent - to track gradients of this param for use with torch.autograd (this module implements gradient descent)\n",
        "                                         dtype=torch.float))\n",
        "    \n",
        "  def forward(self, x: torch.Tensor) -> torch.Tensor: #x is input data, needs to override this method - this is the operation the model does\n",
        "    return self.weight * x + self.bias"
      ],
      "metadata": {
        "id": "y9-YJmXfHpK-"
      },
      "execution_count": 6,
      "outputs": []
    },
    {
      "cell_type": "markdown",
      "source": [
        "### Pytorch model building essentials\n",
        "\n",
        "* torch.nn - contains all of the buildings for computational graphs (a nn can be considered one)\n",
        "* torch.nn.Parameter - what params our model try and learn, often a pytorch layer from torch.nn will set these for us\n",
        "* torch.nn.Module - the base class for nn modules, if you subclass it you should override forward\n",
        "* torch.optim - where the optimizers for pytorch live, help with gradient descent etc.\n",
        "* def forward() - all nn.Module subclasses require you to override forward()\n",
        "\n",
        "#### Cheat sheet:\n",
        "https://pytorch.org/tutorials/beginner/ptcheat.html"
      ],
      "metadata": {
        "id": "QNKFw7eKLC5p"
      }
    },
    {
      "cell_type": "markdown",
      "source": [
        " ### Checking the contents of our pytorch model\n",
        "\n",
        " Check our model parameters using .parameters()\n",
        "\n"
      ],
      "metadata": {
        "id": "MChpQj_-MMrc"
      }
    },
    {
      "cell_type": "code",
      "source": [
        "torch.manual_seed(42)\n",
        "\n",
        "#instance of model\n",
        "model_0 = LinearRegressionModel()\n",
        "list(model_0.parameters())"
      ],
      "metadata": {
        "colab": {
          "base_uri": "https://localhost:8080/"
        },
        "id": "bkgQeO6ISyAh",
        "outputId": "6dc0131a-1932-41da-9a39-09e958cde88d"
      },
      "execution_count": 7,
      "outputs": [
        {
          "output_type": "execute_result",
          "data": {
            "text/plain": [
              "[Parameter containing:\n",
              " tensor([0.3367], requires_grad=True),\n",
              " Parameter containing:\n",
              " tensor([0.1288], requires_grad=True)]"
            ]
          },
          "metadata": {},
          "execution_count": 7
        }
      ]
    },
    {
      "cell_type": "code",
      "source": [
        "model_0.state_dict()"
      ],
      "metadata": {
        "colab": {
          "base_uri": "https://localhost:8080/"
        },
        "id": "uEijUUnFUY2g",
        "outputId": "d8f35319-49f0-4eb9-ffe8-3fb1209e6211"
      },
      "execution_count": 8,
      "outputs": [
        {
          "output_type": "execute_result",
          "data": {
            "text/plain": [
              "OrderedDict([('weight', tensor([0.3367])), ('bias', tensor([0.1288]))])"
            ]
          },
          "metadata": {},
          "execution_count": 8
        }
      ]
    },
    {
      "cell_type": "markdown",
      "source": [
        "### making prediction using torch.inference_mode()\n",
        "\n",
        "To check our model's predictive power\n",
        "When we pass data through our model it is going to run it through the forward method\n"
      ],
      "metadata": {
        "id": "fvzG4Q_aUlVH"
      }
    },
    {
      "cell_type": "code",
      "source": [
        "with torch.inference_mode(): #before it was torch.no_grad but can be seen \n",
        "  y_preds = model_0(X_test)\n",
        "\n",
        "y_preds"
      ],
      "metadata": {
        "colab": {
          "base_uri": "https://localhost:8080/"
        },
        "id": "cO-1E3KQWmsz",
        "outputId": "312ee9c7-2218-4908-ad33-85d0244803dc"
      },
      "execution_count": 9,
      "outputs": [
        {
          "output_type": "execute_result",
          "data": {
            "text/plain": [
              "tensor([[0.3982],\n",
              "        [0.4049],\n",
              "        [0.4116],\n",
              "        [0.4184],\n",
              "        [0.4251],\n",
              "        [0.4318],\n",
              "        [0.4386],\n",
              "        [0.4453],\n",
              "        [0.4520],\n",
              "        [0.4588]])"
            ]
          },
          "metadata": {},
          "execution_count": 9
        }
      ]
    },
    {
      "cell_type": "code",
      "source": [
        "y_test"
      ],
      "metadata": {
        "colab": {
          "base_uri": "https://localhost:8080/"
        },
        "id": "qkPcKomiXL5U",
        "outputId": "f4317f9f-694a-4236-9d35-f20886737af6"
      },
      "execution_count": 10,
      "outputs": [
        {
          "output_type": "execute_result",
          "data": {
            "text/plain": [
              "tensor([[0.8600],\n",
              "        [0.8740],\n",
              "        [0.8880],\n",
              "        [0.9020],\n",
              "        [0.9160],\n",
              "        [0.9300],\n",
              "        [0.9440],\n",
              "        [0.9580],\n",
              "        [0.9720],\n",
              "        [0.9860]])"
            ]
          },
          "metadata": {},
          "execution_count": 10
        }
      ]
    },
    {
      "cell_type": "code",
      "source": [
        "plot_predictions(predictions=y_preds)"
      ],
      "metadata": {
        "colab": {
          "base_uri": "https://localhost:8080/",
          "height": 599
        },
        "id": "a9vv5ZBHmvRH",
        "outputId": "4ea3a40c-432d-4406-b275-8b96c8f104fc"
      },
      "execution_count": 11,
      "outputs": [
        {
          "output_type": "display_data",
          "data": {
            "text/plain": [
              "<Figure size 1000x700 with 1 Axes>"
            ],
            "image/png": "[encoded data removed]"
          },
          "metadata": {}
        }
      ]
    },
    {
      "cell_type": "markdown",
      "source": [
        "## 3. Train our model\n",
        "\n",
        "measure how poor model is -> use loss function. in torch.nn you have loss functions / criterion / cost functions\n",
        "\n",
        "* **Loss function** - measure between prediction and ideal output, lower = better\n",
        "* **Optimizer** - takes into account the loss of model and adjusts model's parameters ( weight and bias) to improve the loss function\n",
        "\n",
        "Specifically for PyTorch:\n",
        "* training loop\n",
        "* testing loop\n"
      ],
      "metadata": {
        "id": "DDgwCzAvs5kA"
      }
    },
    {
      "cell_type": "code",
      "source": [
        "#Setup a loss function\n",
        "loss_fn = nn.L1Loss()\n",
        "#Setup an optimizer\n",
        "optimizer = torch.optim.SGD(params=model_0.parameters(), lr=0.01) #learning rate - hyperparameter\n"
      ],
      "metadata": {
        "id": "bsoWF9KkPxgQ"
      },
      "execution_count": 12,
      "outputs": []
    },
    {
      "cell_type": "markdown",
      "source": [
        "### Building a training loop (and a testing loop) in PyTorch\n",
        "\n",
        "A couple of things we need in a training loop:\n",
        "0. Loop through the data and do following:\n",
        "1. Forward pass / propagation - involves data moving through our model's forward functions to make predictions on data\n",
        "2. Calculate the loss (compare forward pass predictions to ground truth labels)\n",
        "3. Optimizer zero grad\n",
        "4. Loss backward  - move backwards through the network to calculate the gradients of each of the parameters of our model with respect to the loss (**backpropagation**)\n",
        "5. Optimizer step - use optim to adjust model's parameters to try and improve the loss (**gradient descent**)\n",
        "\n"
      ],
      "metadata": {
        "id": "pLaJkxDGVHX4"
      }
    },
    {
      "cell_type": "code",
      "source": [
        "# an epoch is one loop through the data (this is hyperparameter because we set it ourselves)\n",
        "epochs = 200\n",
        "torch.manual_seed(42) \n",
        "#track values for comparison\n",
        "epoch_count = []\n",
        "loss_values = []\n",
        "test_loss_values = []\n",
        "\n",
        "# 0. loop through the data\n",
        "for epoch in range(epochs):\n",
        "  # Set the model to training mode - default mode\n",
        "  model_0.train() # sets all parameters that require gradients to require gradients\n",
        "\n",
        "  #1. Forward pass\n",
        "  y_pred = model_0(X_train) \n",
        "\n",
        "  #2. Calculate the loss\n",
        "  loss = loss_fn(y_pred, y_train) \n",
        "\n",
        "  #3. Optimizer zero grad\n",
        "  optimizer.zero_grad() #start fresh  \n",
        "\n",
        "  #4. Perform backpropagation on the loss with respect to the parameters of the model\n",
        "  loss.backward()\n",
        "\n",
        "  #5. Step the optimizer (perform gradient descent)\n",
        "  optimizer.step() # by default how the optimizer changes will accumulate through the loop... we have to zero them above in step 3 for the next iteration of the loop\n",
        "\n",
        "  # 1. and 2. come first, 5. must come after 4.  \n",
        "\n",
        "  #Testing\n",
        "  model_0.eval() # turns off gradient tracking for evaluation/testing (dropout/batch norm)\n",
        "  with torch.inference_mode():\n",
        "    epoch_count.append(epoch)\n",
        "    # 1. forward pass\n",
        "    test_pred = model_0(X_test)\n",
        "    # 2. calculate loss\n",
        "    test_loss = loss_fn(test_pred, y_test)\n",
        "\n",
        "    loss_values.append(loss)\n",
        "    test_loss_values.append(test_loss)\n",
        "\n",
        "  if epoch % 10 == 0:\n",
        "    print(f\"Epoch: {epoch} | Loss: {loss} | Test loss: {test_loss}\")\n",
        "    print(model_0.state_dict())\n"
      ],
      "metadata": {
        "colab": {
          "base_uri": "https://localhost:8080/"
        },
        "id": "eZkIPghUWlfv",
        "outputId": "31c23079-b295-49cb-d89b-cafab9df64be"
      },
      "execution_count": 13,
      "outputs": [
        {
          "output_type": "stream",
          "name": "stdout",
          "text": [
            "Epoch: 0 | Loss: 0.31288138031959534 | Test loss: 0.48106518387794495\n",
            "OrderedDict([('weight', tensor([0.3406])), ('bias', tensor([0.1388]))])\n",
            "Epoch: 10 | Loss: 0.1976713240146637 | Test loss: 0.3463551998138428\n",
            "OrderedDict([('weight', tensor([0.3796])), ('bias', tensor([0.2388]))])\n",
            "Epoch: 20 | Loss: 0.08908725529909134 | Test loss: 0.21729660034179688\n",
            "OrderedDict([('weight', tensor([0.4184])), ('bias', tensor([0.3333]))])\n",
            "Epoch: 30 | Loss: 0.053148526698350906 | Test loss: 0.14464017748832703\n",
            "OrderedDict([('weight', tensor([0.4512])), ('bias', tensor([0.3768]))])\n",
            "Epoch: 40 | Loss: 0.04543796554207802 | Test loss: 0.11360953003168106\n",
            "OrderedDict([('weight', tensor([0.4748])), ('bias', tensor([0.3868]))])\n",
            "Epoch: 50 | Loss: 0.04167863354086876 | Test loss: 0.09919948130846024\n",
            "OrderedDict([('weight', tensor([0.4938])), ('bias', tensor([0.3843]))])\n",
            "Epoch: 60 | Loss: 0.03818932920694351 | Test loss: 0.08886633068323135\n",
            "OrderedDict([('weight', tensor([0.5116])), ('bias', tensor([0.3788]))])\n",
            "Epoch: 70 | Loss: 0.03476089984178543 | Test loss: 0.0805937647819519\n",
            "OrderedDict([('weight', tensor([0.5288])), ('bias', tensor([0.3718]))])\n",
            "Epoch: 80 | Loss: 0.03132382780313492 | Test loss: 0.07232122868299484\n",
            "OrderedDict([('weight', tensor([0.5459])), ('bias', tensor([0.3648]))])\n",
            "Epoch: 90 | Loss: 0.02788739837706089 | Test loss: 0.06473556160926819\n",
            "OrderedDict([('weight', tensor([0.5629])), ('bias', tensor([0.3573]))])\n",
            "Epoch: 100 | Loss: 0.024458957836031914 | Test loss: 0.05646304413676262\n",
            "OrderedDict([('weight', tensor([0.5800])), ('bias', tensor([0.3503]))])\n",
            "Epoch: 110 | Loss: 0.021020207554101944 | Test loss: 0.04819049686193466\n",
            "OrderedDict([('weight', tensor([0.5972])), ('bias', tensor([0.3433]))])\n",
            "Epoch: 120 | Loss: 0.01758546568453312 | Test loss: 0.04060482233762741\n",
            "OrderedDict([('weight', tensor([0.6141])), ('bias', tensor([0.3358]))])\n",
            "Epoch: 130 | Loss: 0.014155393466353416 | Test loss: 0.03233227878808975\n",
            "OrderedDict([('weight', tensor([0.6313])), ('bias', tensor([0.3288]))])\n",
            "Epoch: 140 | Loss: 0.010716589167714119 | Test loss: 0.024059748277068138\n",
            "OrderedDict([('weight', tensor([0.6485])), ('bias', tensor([0.3218]))])\n",
            "Epoch: 150 | Loss: 0.0072835334576666355 | Test loss: 0.016474086791276932\n",
            "OrderedDict([('weight', tensor([0.6654])), ('bias', tensor([0.3143]))])\n",
            "Epoch: 160 | Loss: 0.0038517764769494534 | Test loss: 0.008201557211577892\n",
            "OrderedDict([('weight', tensor([0.6826])), ('bias', tensor([0.3073]))])\n",
            "Epoch: 170 | Loss: 0.008932482451200485 | Test loss: 0.005023092031478882\n",
            "OrderedDict([('weight', tensor([0.6951])), ('bias', tensor([0.2993]))])\n",
            "Epoch: 180 | Loss: 0.008932482451200485 | Test loss: 0.005023092031478882\n",
            "OrderedDict([('weight', tensor([0.6951])), ('bias', tensor([0.2993]))])\n",
            "Epoch: 190 | Loss: 0.008932482451200485 | Test loss: 0.005023092031478882\n",
            "OrderedDict([('weight', tensor([0.6951])), ('bias', tensor([0.2993]))])\n"
          ]
        }
      ]
    },
    {
      "cell_type": "code",
      "source": [
        "# epoch_count, loss_values, test_loss_values"
      ],
      "metadata": {
        "id": "ur6Cm5We3JhF"
      },
      "execution_count": 14,
      "outputs": []
    },
    {
      "cell_type": "code",
      "source": [
        "#plot the loss curves\n",
        "plt.plot(epoch_count, torch.tensor(loss_values).numpy(), label=\"Train loss\")\n",
        "plt.plot(epoch_count, test_loss_values, label=\"Test loss\")\n",
        "plt.title(\"Training and test loss curves\")\n",
        "plt.ylabel(\"loss\")\n",
        "plt.xlabel(\"epoch\")\n",
        "plt.legend()"
      ],
      "metadata": {
        "colab": {
          "base_uri": "https://localhost:8080/",
          "height": 489
        },
        "id": "6IFme_Ej3TIk",
        "outputId": "ca004283-1b92-432d-c69e-71ceebf27656"
      },
      "execution_count": 15,
      "outputs": [
        {
          "output_type": "execute_result",
          "data": {
            "text/plain": [
              "<matplotlib.legend.Legend at 0x7ffacdeaf490>"
            ]
          },
          "metadata": {},
          "execution_count": 15
        },
        {
          "output_type": "display_data",
          "data": {
            "text/plain": [
              "<Figure size 640x480 with 1 Axes>"
            ],
            "image/png": "[encoded data removed]"
          },
          "metadata": {}
        }
      ]
    },
    {
      "cell_type": "code",
      "source": [
        "with torch.inference_mode():\n",
        "  y_preds = model_0(X_test)\n",
        "plot_predictions(predictions=y_preds)"
      ],
      "metadata": {
        "colab": {
          "base_uri": "https://localhost:8080/",
          "height": 599
        },
        "id": "1axSyRIFebNS",
        "outputId": "167f6518-06c8-4686-90df-01908aefc30a"
      },
      "execution_count": 16,
      "outputs": [
        {
          "output_type": "display_data",
          "data": {
            "text/plain": [
              "<Figure size 1000x700 with 1 Axes>"
            ],
            "image/png": "[encoded data removed]"
          },
          "metadata": {}
        }
      ]
    },
    {
      "cell_type": "code",
      "source": [
        "#TESTING\n",
        "# Our \"model\"\n",
        "x = torch.tensor([1., 2.], requires_grad=True)\n",
        "y = torch.tensor([5., 20.], requires_grad=True)\n",
        "\n",
        "# Compute loss\n",
        "loss = loss = loss_fn(y, x) \n",
        "\n",
        "# Compute gradient of the loss w.r.t. to the parameters  \n",
        "print(x.grad)     # None\n",
        "loss.backward()      \n",
        "print(x.grad)     # tensor([100., 100.])\n",
        "\n",
        "# MOdify the parameters by subtracting the gradient\n",
        "optim = torch.optim.SGD([x], lr=0.001)\n",
        "print(x)        # tensor([1., 2.], requires_grad=True)\n",
        "optim.step()\n",
        "print(x)        # tensor([0.9000, 1.9000], requires_grad=True)"
      ],
      "metadata": {
        "colab": {
          "base_uri": "https://localhost:8080/"
        },
        "id": "DLKa9WaIi2l4",
        "outputId": "a380a273-d303-4314-da4f-fb912191a667"
      },
      "execution_count": 17,
      "outputs": [
        {
          "output_type": "stream",
          "name": "stdout",
          "text": [
            "None\n",
            "tensor([-0.5000, -0.5000])\n",
            "tensor([1., 2.], requires_grad=True)\n",
            "tensor([1.0005, 2.0005], requires_grad=True)\n"
          ]
        }
      ]
    },
    {
      "cell_type": "markdown",
      "source": [
        "## Saving a model in PyTorch\n",
        "\n",
        "There are 3 main methods for saving and loading models\n",
        "* `torch.save()` - saves a model in pickle format\n",
        "* `torch.load()` - load saved\n",
        "* `torch.nn.Module.load_state_dict()` - allows to load model's saved state dictionary  \n",
        "\n",
        "Recommended to save/load state dict"
      ],
      "metadata": {
        "id": "adBMO0596yuk"
      }
    },
    {
      "cell_type": "code",
      "source": [
        "model_0.state_dict()"
      ],
      "metadata": {
        "colab": {
          "base_uri": "https://localhost:8080/"
        },
        "id": "9oerJVta67BY",
        "outputId": "f951147d-dc17-4082-ebe2-369b6d5c6bc6"
      },
      "execution_count": 18,
      "outputs": [
        {
          "output_type": "execute_result",
          "data": {
            "text/plain": [
              "OrderedDict([('weight', tensor([0.6990])), ('bias', tensor([0.3093]))])"
            ]
          },
          "metadata": {},
          "execution_count": 18
        }
      ]
    },
    {
      "cell_type": "code",
      "source": [
        "# saving \n",
        "from pathlib import Path\n",
        "\n",
        "# create models dir\n",
        "MODEL_PATH = Path(\"models\")\n",
        "MODEL_PATH.mkdir(parents=True, exist_ok=True)\n",
        "\n",
        "MODEL_NAME = \"01_pytorch_workflow_model_0.pth\" #pt or pth\n",
        "MODEL_SAVE_PATH = MODEL_PATH / MODEL_NAME\n",
        "MODEL_SAVE_PATH \n",
        "\n",
        "#save state dict\n",
        "torch.save(model_0.state_dict(), MODEL_SAVE_PATH)"
      ],
      "metadata": {
        "id": "dFDdctyT7bdg"
      },
      "execution_count": 19,
      "outputs": []
    },
    {
      "cell_type": "code",
      "source": [
        "#create new instance of model and load saved state dict\n",
        "loaded_model_0 = LinearRegressionModel()\n",
        "\n",
        "print(loaded_model_0.state_dict())\n",
        "#update new instance with saved parameters\n",
        "\n",
        "loaded_model_0.load_state_dict(torch.load(f=MODEL_SAVE_PATH))\n",
        "print(loaded_model_0.state_dict())"
      ],
      "metadata": {
        "colab": {
          "base_uri": "https://localhost:8080/"
        },
        "id": "fIfUWdO4-6OY",
        "outputId": "58d30ca7-cf3f-4b44-d657-286d778d3de3"
      },
      "execution_count": 20,
      "outputs": [
        {
          "output_type": "stream",
          "name": "stdout",
          "text": [
            "OrderedDict([('weight', tensor([0.3367])), ('bias', tensor([0.1288]))])\n",
            "OrderedDict([('weight', tensor([0.6990])), ('bias', tensor([0.3093]))])\n"
          ]
        }
      ]
    },
    {
      "cell_type": "markdown",
      "source": [
        "# Putting it all together"
      ],
      "metadata": {
        "id": "U3KDObab_lvj"
      }
    },
    {
      "cell_type": "code",
      "source": [
        "import torch\n",
        "from torch import nn\n",
        "import matplotlib.pyplot as plt\n",
        "\n",
        "torch.__version__"
      ],
      "metadata": {
        "colab": {
          "base_uri": "https://localhost:8080/",
          "height": 35
        },
        "id": "kl46T1xn9Rr8",
        "outputId": "0f87a969-cfba-4e86-9eaf-3100b0f60bc3"
      },
      "execution_count": 21,
      "outputs": [
        {
          "output_type": "execute_result",
          "data": {
            "text/plain": [
              "'2.0.0+cu118'"
            ],
            "application/vnd.google.colaboratory.intrinsic+json": {
              "type": "string"
            }
          },
          "metadata": {},
          "execution_count": 21
        }
      ]
    },
    {
      "cell_type": "code",
      "source": [
        "device = \"cuda\" if torch.cuda.is_available() else \"cpu\"\n",
        "print(f\"Using {device}\")"
      ],
      "metadata": {
        "colab": {
          "base_uri": "https://localhost:8080/"
        },
        "id": "VVNbeTNU9ZUc",
        "outputId": "8307e851-d595-4f1f-b540-1896bc10f802"
      },
      "execution_count": 22,
      "outputs": [
        {
          "output_type": "stream",
          "name": "stdout",
          "text": [
            "Using cuda\n"
          ]
        }
      ]
    },
    {
      "cell_type": "code",
      "source": [
        "# Create some data using the lin reg formula y = x*weight + bias or better for example y =sin(x)*2 + 3\n",
        "import math \n",
        "import numpy as np\n",
        "\n",
        "weight = 2\n",
        "bias = 3\n",
        "\n",
        "start = 0\n",
        "end = 5\n",
        "step = 0.02\n",
        "X = torch.arange(start, end, step).unsqueeze(dim=1)\n",
        "# y = weight*np.sin(X) + bias\n",
        "y = X*weight+bias\n",
        "plt.scatter(X, y)\n"
      ],
      "metadata": {
        "colab": {
          "base_uri": "https://localhost:8080/",
          "height": 447
        },
        "id": "yuPsgz-q9ikG",
        "outputId": "b2414996-4707-47db-e8b6-31e6b642a515"
      },
      "execution_count": 23,
      "outputs": [
        {
          "output_type": "execute_result",
          "data": {
            "text/plain": [
              "<matplotlib.collections.PathCollection at 0x7ffad03ded30>"
            ]
          },
          "metadata": {},
          "execution_count": 23
        },
        {
          "output_type": "display_data",
          "data": {
            "text/plain": [
              "<Figure size 640x480 with 1 Axes>"
            ],
            "image/png": "[encoded data removed]"
          },
          "metadata": {}
        }
      ]
    },
    {
      "cell_type": "code",
      "source": [
        "#split\n",
        "train_split = int(0.8 * len(X))\n",
        "X_train, y_train = X[:train_split], y[:train_split]\n",
        "X_test, y_test = X[train_split:], y[train_split:]"
      ],
      "metadata": {
        "id": "AXQM5VpM_nRi"
      },
      "execution_count": 24,
      "outputs": []
    },
    {
      "cell_type": "code",
      "source": [
        "plot_predictions(X_train, y_train, X_test, y_test)"
      ],
      "metadata": {
        "colab": {
          "base_uri": "https://localhost:8080/",
          "height": 599
        },
        "id": "-kIZnIKD_9TU",
        "outputId": "d41d691a-9939-49a1-f681-b8ffb29c9138"
      },
      "execution_count": 25,
      "outputs": [
        {
          "output_type": "display_data",
          "data": {
            "text/plain": [
              "<Figure size 1000x700 with 1 Axes>"
            ],
            "image/png": "[encoded data removed]"
          },
          "metadata": {}
        }
      ]
    },
    {
      "cell_type": "code",
      "source": [
        "# building a pytorch linear model\n",
        "class LRv2(nn.Module):\n",
        "  def __init__(self):\n",
        "    super().__init__()\n",
        "    #now we dont init params but layers that have params in them\n",
        "    #use nn.Linear() for creating model params / also called: linear transform, probing layer, fully connected layer, dense layer\n",
        "    self.linear_layer = nn.Linear(in_features=1, out_features=1)\n",
        "  \n",
        "  def forward(self, x):\n",
        "    return self.linear_layer(x)"
      ],
      "metadata": {
        "id": "TCBjZl8kAW2d"
      },
      "execution_count": 26,
      "outputs": []
    },
    {
      "cell_type": "code",
      "source": [
        "torch.manual_seed(42)\n",
        "model_1 = LRv2()\n",
        "model_1, model_1.state_dict()"
      ],
      "metadata": {
        "colab": {
          "base_uri": "https://localhost:8080/"
        },
        "id": "iqPqqTBVC-Rz",
        "outputId": "94a93e83-5055-482a-a7ae-d34e3b94011c"
      },
      "execution_count": 27,
      "outputs": [
        {
          "output_type": "execute_result",
          "data": {
            "text/plain": [
              "(LRv2(\n",
              "   (linear_layer): Linear(in_features=1, out_features=1, bias=True)\n",
              " ),\n",
              " OrderedDict([('linear_layer.weight', tensor([[0.7645]])),\n",
              "              ('linear_layer.bias', tensor([0.8300]))]))"
            ]
          },
          "metadata": {},
          "execution_count": 27
        }
      ]
    },
    {
      "cell_type": "code",
      "source": [
        "#set model to use target device\n",
        "#check current device\n",
        "print(next(model_1.parameters()).device)\n",
        "model_1.to(device)\n",
        "print(next(model_1.parameters()).device) "
      ],
      "metadata": {
        "colab": {
          "base_uri": "https://localhost:8080/"
        },
        "id": "M1fGgU0JCt7K",
        "outputId": "6c0a8287-e059-4a93-8d75-05c05c74c83c"
      },
      "execution_count": 28,
      "outputs": [
        {
          "output_type": "stream",
          "name": "stdout",
          "text": [
            "cpu\n",
            "cuda:0\n"
          ]
        }
      ]
    },
    {
      "cell_type": "code",
      "source": [
        "#Training code\n",
        "loss_fn = nn.L1Loss()\n",
        "optimizer = torch.optim.SGD(lr=0.01, params=model_1.parameters())"
      ],
      "metadata": {
        "id": "mU8wheisD9yh"
      },
      "execution_count": 29,
      "outputs": []
    },
    {
      "cell_type": "code",
      "source": [
        "#put data on device (Device agnostic code for data)\n",
        "X_train = X_train.to(device)\n",
        "y_train = y_train.to(device)\n",
        "X_test = X_test.to(device)\n",
        "y_test = y_test.to(device)"
      ],
      "metadata": {
        "id": "7GZ3SAQ5GOT6"
      },
      "execution_count": 30,
      "outputs": []
    },
    {
      "cell_type": "code",
      "source": [
        "#training loop\n",
        "torch.manual_seed(42)\n",
        "epochs = 200\n",
        "\n",
        "for epoch in range(epochs):\n",
        "  model_1.train()\n",
        "\n",
        "  y_pred = model_1(X_train)\n",
        "\n",
        "  loss = loss_fn(y_pred, y_train)\n",
        "\n",
        "  optimizer.zero_grad()\n",
        "\n",
        "  loss.backward()\n",
        "\n",
        "  optimizer.step()\n",
        "\n",
        "  #Testing\n",
        "\n",
        "  model_1.eval()\n",
        "  with torch.inference_mode():\n",
        "    test_pred = model_1(X_test)\n",
        "    test_loss = loss_fn(test_pred, y_test)\n",
        "  \n",
        "  if epoch % 10 == 0:\n",
        "    print(f\"Epoch: {epoch} | Train loss: {loss} | Test loss: {test_loss}\")\n"
      ],
      "metadata": {
        "colab": {
          "base_uri": "https://localhost:8080/"
        },
        "id": "98Q19zmYEVVP",
        "outputId": "18ca4f2b-7726-4629-d3e5-ced60078697b"
      },
      "execution_count": 31,
      "outputs": [
        {
          "output_type": "stream",
          "name": "stdout",
          "text": [
            "Epoch: 0 | Train loss: 4.6285600662231445 | Test loss: 7.617863178253174\n",
            "Epoch: 10 | Train loss: 4.13254976272583 | Test loss: 6.624351501464844\n",
            "Epoch: 20 | Train loss: 3.636540412902832 | Test loss: 5.630843162536621\n",
            "Epoch: 30 | Train loss: 3.140531539916992 | Test loss: 4.637335300445557\n",
            "Epoch: 40 | Train loss: 2.644521951675415 | Test loss: 3.643826723098755\n",
            "Epoch: 50 | Train loss: 2.148513078689575 | Test loss: 2.6503186225891113\n",
            "Epoch: 60 | Train loss: 1.6525039672851562 | Test loss: 1.6568102836608887\n",
            "Epoch: 70 | Train loss: 1.1564927101135254 | Test loss: 0.6632971167564392\n",
            "Epoch: 80 | Train loss: 0.6624158620834351 | Test loss: 0.3171950578689575\n",
            "Epoch: 90 | Train loss: 0.5449733138084412 | Test loss: 0.6676568388938904\n",
            "Epoch: 100 | Train loss: 0.5228787660598755 | Test loss: 0.7499164938926697\n",
            "Epoch: 110 | Train loss: 0.5067470669746399 | Test loss: 0.7647943496704102\n",
            "Epoch: 120 | Train loss: 0.49135512113571167 | Test loss: 0.7541755437850952\n",
            "Epoch: 130 | Train loss: 0.47605735063552856 | Test loss: 0.734246551990509\n",
            "Epoch: 140 | Train loss: 0.46075958013534546 | Test loss: 0.7143176198005676\n",
            "Epoch: 150 | Train loss: 0.4454643130302429 | Test loss: 0.6930671334266663\n",
            "Epoch: 160 | Train loss: 0.4301740825176239 | Test loss: 0.6691738963127136\n",
            "Epoch: 170 | Train loss: 0.41488391160964966 | Test loss: 0.6452803015708923\n",
            "Epoch: 180 | Train loss: 0.3995938003063202 | Test loss: 0.6213865280151367\n",
            "Epoch: 190 | Train loss: 0.38430365920066833 | Test loss: 0.5974928140640259\n"
          ]
        }
      ]
    },
    {
      "cell_type": "code",
      "source": [
        "model_1.state_dict()"
      ],
      "metadata": {
        "colab": {
          "base_uri": "https://localhost:8080/"
        },
        "id": "GVEe4ljtFV6w",
        "outputId": "a6da1f31-b8c3-4de5-8525-62fb7f18036a"
      },
      "execution_count": 32,
      "outputs": [
        {
          "output_type": "execute_result",
          "data": {
            "text/plain": [
              "OrderedDict([('linear_layer.weight', tensor([[2.3255]], device='cuda:0')),\n",
              "             ('linear_layer.bias', tensor([2.1142], device='cuda:0'))])"
            ]
          },
          "metadata": {},
          "execution_count": 32
        }
      ]
    },
    {
      "cell_type": "code",
      "source": [
        "model_1.eval() # eval mode \n",
        "\n",
        "\n",
        "with torch.inference_mode():\n",
        "  y_preds = model_1(X_test)\n",
        "y_preds[:10]"
      ],
      "metadata": {
        "colab": {
          "base_uri": "https://localhost:8080/"
        },
        "id": "8WoPjNNqHsbm",
        "outputId": "8742a05c-a15c-422b-a71a-114c0fcc45f7"
      },
      "execution_count": 33,
      "outputs": [
        {
          "output_type": "execute_result",
          "data": {
            "text/plain": [
              "tensor([[11.4161],\n",
              "        [11.4626],\n",
              "        [11.5091],\n",
              "        [11.5556],\n",
              "        [11.6021],\n",
              "        [11.6487],\n",
              "        [11.6952],\n",
              "        [11.7417],\n",
              "        [11.7882],\n",
              "        [11.8347]], device='cuda:0')"
            ]
          },
          "metadata": {},
          "execution_count": 33
        }
      ]
    },
    {
      "cell_type": "code",
      "source": [
        "plot_predictions(X_train.cpu(), y_train.cpu(), X_test.cpu(), y_test.cpu(), predictions=y_preds.cpu())"
      ],
      "metadata": {
        "colab": {
          "base_uri": "https://localhost:8080/",
          "height": 599
        },
        "id": "ERwMfcoRIPtm",
        "outputId": "6b66272c-473b-428a-d9b0-54b151f8f6b5"
      },
      "execution_count": 34,
      "outputs": [
        {
          "output_type": "display_data",
          "data": {
            "text/plain": [
              "<Figure size 1000x700 with 1 Axes>"
            ],
            "image/png": "[encoded data removed]"
          },
          "metadata": {}
        }
      ]
    },
    {
      "cell_type": "code",
      "source": [],
      "metadata": {
        "colab": {
          "base_uri": "https://localhost:8080/"
        },
        "id": "Oq8Xdy-CJNdf",
        "outputId": "59b83790-2f21-4d80-8c38-53722f4a9285"
      },
      "execution_count": 116,
      "outputs": [
        {
          "output_type": "execute_result",
          "data": {
            "text/plain": [
              "device(type='cuda', index=0)"
            ]
          },
          "metadata": {},
          "execution_count": 116
        }
      ]
    }
  ]
}